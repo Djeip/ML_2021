{
 "cells": [
  {
   "cell_type": "code",
   "execution_count": 42,
   "outputs": [],
   "source": [
    "import numpy as np\n",
    "from os import walk\n",
    "from sklearn.model_selection import GridSearchCV\n",
    "from PIL import Image\n",
    "from sklearn.model_selection import train_test_split\n",
    "from sklearn.metrics import accuracy_score, f1_score, confusion_matrix\n",
    "from sklearn.svm import LinearSVC\n",
    "from sklearn.neighbors import KNeighborsClassifier\n",
    "import pandas as pd"
   ],
   "metadata": {
    "collapsed": false,
    "pycharm": {
     "name": "#%%\n"
    }
   }
  },
  {
   "cell_type": "markdown",
   "source": [],
   "metadata": {
    "collapsed": false
   }
  },
  {
   "cell_type": "markdown",
   "source": [
    "## Загрузка обработанных изображений"
   ],
   "metadata": {
    "collapsed": false
   }
  },
  {
   "cell_type": "code",
   "execution_count": 3,
   "outputs": [],
   "source": [
    "# Папка с обработанными черно-белыми изображениями\n",
    "img_dir = r'C:/Users/Lenovo/Documents/cropped/'\n",
    "_, _, up = next(walk(img_dir + 'up'))\n",
    "_, _, down = next(walk(img_dir + 'down'))\n",
    "_, _, mov = next(walk(img_dir + 'mov'))\n",
    "up = [img_dir + 'up/' + filename for filename in up]\n",
    "down = [img_dir + 'down/' + filename for filename in down]\n",
    "mov = [img_dir + 'mov/' + filename for filename in mov]"
   ],
   "metadata": {
    "collapsed": false,
    "pycharm": {
     "name": "#%%\n"
    }
   }
  },
  {
   "cell_type": "code",
   "execution_count": 4,
   "outputs": [],
   "source": [
    "# конвертация изображений в numpy-массив\n",
    "X = []\n",
    "for img_path in up + down + mov:\n",
    "    img = Image.open(img_path)\n",
    "    X.append(np.hstack(np.array(img)))\n",
    "y = ['up']*len(up) + ['down']*len(down) + ['mov']*len(mov)\n",
    "X = np.array(X)\n",
    "y = np.array(y)"
   ],
   "metadata": {
    "collapsed": false,
    "pycharm": {
     "name": "#%%\n"
    }
   }
  },
  {
   "cell_type": "code",
   "execution_count": 5,
   "outputs": [
    {
     "data": {
      "text/plain": "(55162, 2100)"
     },
     "execution_count": 5,
     "metadata": {},
     "output_type": "execute_result"
    }
   ],
   "source": [
    "X.shape"
   ],
   "metadata": {
    "collapsed": false,
    "pycharm": {
     "name": "#%%\n"
    }
   }
  },
  {
   "cell_type": "code",
   "execution_count": 6,
   "outputs": [
    {
     "data": {
      "text/plain": "array(['up', 'up', 'up', ..., 'mov', 'mov', 'mov'], dtype='<U4')"
     },
     "execution_count": 6,
     "metadata": {},
     "output_type": "execute_result"
    }
   ],
   "source": [
    "y"
   ],
   "metadata": {
    "collapsed": false,
    "pycharm": {
     "name": "#%%\n"
    }
   }
  },
  {
   "cell_type": "code",
   "execution_count": 7,
   "outputs": [],
   "source": [
    "X_train, X_test, y_train, y_test = train_test_split(X, y, test_size=0.01,train_size=0.1, random_state=23)"
   ],
   "metadata": {
    "collapsed": false,
    "pycharm": {
     "name": "#%%\n"
    }
   }
  },
  {
   "cell_type": "code",
   "execution_count": 8,
   "outputs": [
    {
     "data": {
      "text/plain": "(5516, 2100)"
     },
     "execution_count": 8,
     "metadata": {},
     "output_type": "execute_result"
    }
   ],
   "source": [
    "X_train.shape"
   ],
   "metadata": {
    "collapsed": false,
    "pycharm": {
     "name": "#%%\n"
    }
   }
  },
  {
   "cell_type": "code",
   "execution_count": 15,
   "outputs": [],
   "source": [
    "def metrics(y_true, y_pred):\n",
    "    print('Accuracy :', accuracy_score(y_true, y_pred))\n",
    "    print('f1 :', f1_score(y_true, y_pred,average='weighted'))"
   ],
   "metadata": {
    "collapsed": false,
    "pycharm": {
     "name": "#%%\n"
    }
   }
  },
  {
   "cell_type": "markdown",
   "source": [
    "## SVM"
   ],
   "metadata": {
    "collapsed": false
   }
  },
  {
   "cell_type": "code",
   "execution_count": 10,
   "outputs": [
    {
     "name": "stdout",
     "output_type": "stream",
     "text": [
      "Fitting 5 folds for each of 7 candidates, totalling 35 fits\n"
     ]
    },
    {
     "name": "stderr",
     "output_type": "stream",
     "text": [
      "C:\\Users\\Lenovo\\AppData\\Local\\Programs\\Python\\Python39\\lib\\site-packages\\sklearn\\svm\\_base.py:1206: ConvergenceWarning: Liblinear failed to converge, increase the number of iterations.\n",
      "  warnings.warn(\n"
     ]
    }
   ],
   "source": [
    "model = LinearSVC()\n",
    "parameters = {\n",
    "    'C': np.logspace(-3,3,5),\n",
    "}\n",
    "grid = GridSearchCV(model, parameters, scoring='accuracy', cv=5,verbose=1,n_jobs=-1)\n",
    "grid.fit(X_train, y_train);"
   ],
   "metadata": {
    "collapsed": false,
    "pycharm": {
     "name": "#%%\n"
    }
   }
  },
  {
   "cell_type": "code",
   "execution_count": 11,
   "outputs": [
    {
     "data": {
      "text/plain": "{'mean_fit_time': array([29.71152167, 27.9081543 , 27.7956553 , 29.78831682, 27.20742044,\n        28.02323818, 23.76103854]),\n 'std_fit_time': array([0.41279426, 0.98166096, 1.01443278, 0.83506019, 0.93305741,\n        1.07711108, 2.59083579]),\n 'mean_score_time': array([0.01356382, 0.01236696, 0.0159575 , 0.01456165, 0.01236725,\n        0.01376362, 0.01117082]),\n 'std_score_time': array([0.00149276, 0.00101719, 0.00373185, 0.00306403, 0.00079805,\n        0.00270601, 0.00193391]),\n 'param_C': masked_array(data=[0.001, 0.01, 0.1, 1.0, 10.0, 100.0, 1000.0],\n              mask=[False, False, False, False, False, False, False],\n        fill_value='?',\n             dtype=object),\n 'params': [{'C': 0.001},\n  {'C': 0.01},\n  {'C': 0.1},\n  {'C': 1.0},\n  {'C': 10.0},\n  {'C': 100.0},\n  {'C': 1000.0}],\n 'split0_test_score': array([0.90307971, 0.89402174, 0.91032609, 0.90036232, 0.90036232,\n        0.90036232, 0.89311594]),\n 'split1_test_score': array([0.9256573 , 0.87669991, 0.88939257, 0.86944696, 0.90027199,\n        0.89936537, 0.88757933]),\n 'split2_test_score': array([0.90752493, 0.90208522, 0.89483228, 0.90208522, 0.90027199,\n        0.90208522, 0.90480508]),\n 'split3_test_score': array([0.91477788, 0.89845875, 0.89936537, 0.90027199, 0.88667271,\n        0.89483228, 0.89664551]),\n 'split4_test_score': array([0.91296464, 0.90843155, 0.88757933, 0.88213962, 0.91115141,\n        0.90661831, 0.90480508]),\n 'mean_test_score': array([0.91280089, 0.89593943, 0.89629912, 0.89086122, 0.89974608,\n        0.9006527 , 0.89739019]),\n 'std_test_score': array([0.00763622, 0.01071455, 0.00814917, 0.01295722, 0.00777081,\n        0.00382778, 0.00670877]),\n 'rank_test_score': array([1, 6, 5, 7, 3, 2, 4])}"
     },
     "execution_count": 11,
     "metadata": {},
     "output_type": "execute_result"
    }
   ],
   "source": [
    "grid.cv_results_"
   ],
   "metadata": {
    "collapsed": false,
    "pycharm": {
     "name": "#%%\n"
    }
   }
  },
  {
   "cell_type": "code",
   "execution_count": 12,
   "outputs": [
    {
     "name": "stderr",
     "output_type": "stream",
     "text": [
      "C:\\Users\\Lenovo\\AppData\\Local\\Programs\\Python\\Python39\\lib\\site-packages\\sklearn\\svm\\_base.py:1206: ConvergenceWarning: Liblinear failed to converge, increase the number of iterations.\n",
      "  warnings.warn(\n"
     ]
    }
   ],
   "source": [
    "model_best = grid.best_estimator_.fit(X_train, y_train)"
   ],
   "metadata": {
    "collapsed": false,
    "pycharm": {
     "name": "#%%\n"
    }
   }
  },
  {
   "cell_type": "code",
   "execution_count": 13,
   "outputs": [],
   "source": [
    "y_pred = model_best.predict(X_test)"
   ],
   "metadata": {
    "collapsed": false,
    "pycharm": {
     "name": "#%%\n"
    }
   }
  },
  {
   "cell_type": "code",
   "execution_count": 16,
   "outputs": [
    {
     "name": "stdout",
     "output_type": "stream",
     "text": [
      "Accuracy : 0.9311594202898551\n",
      "f1 : 0.9321487495155095\n"
     ]
    }
   ],
   "source": [
    "metrics(y_test, y_pred)"
   ],
   "metadata": {
    "collapsed": false,
    "pycharm": {
     "name": "#%%\n"
    }
   }
  },
  {
   "cell_type": "markdown",
   "source": [
    "## KNN"
   ],
   "metadata": {
    "collapsed": false
   }
  },
  {
   "cell_type": "code",
   "execution_count": 17,
   "outputs": [],
   "source": [
    "model = KNeighborsClassifier()\n",
    "parameters = {\n",
    "    'n_neighbors': [2, 3, 5, 7, 10],\n",
    "    'weights': ['uniform', 'distance']\n",
    "}\n",
    "grid = GridSearchCV(model, parameters, scoring='accuracy', cv=5,n_jobs=-1)\n",
    "grid.fit(X_train, y_train);"
   ],
   "metadata": {
    "collapsed": false,
    "pycharm": {
     "name": "#%%\n"
    }
   }
  },
  {
   "cell_type": "code",
   "execution_count": 18,
   "outputs": [
    {
     "data": {
      "text/plain": "{'mean_fit_time': array([0.01236753, 0.01515989, 0.01296554, 0.01316524, 0.01356316,\n        0.01376224, 0.01396151, 0.01276736, 0.01276579, 0.01276517]),\n 'std_fit_time': array([0.00195414, 0.00395991, 0.00109319, 0.00182678, 0.00205539,\n        0.00230935, 0.00235921, 0.00074535, 0.001934  , 0.00146523]),\n 'mean_score_time': array([0.87545719, 0.74121575, 0.77652187, 0.7388227 , 0.7835032 ,\n        0.80883603, 0.91116271, 0.89600143, 0.82958097, 0.77372952]),\n 'std_score_time': array([0.05056934, 0.01228613, 0.00766305, 0.01137808, 0.01014295,\n        0.05141063, 0.01355185, 0.03263904, 0.01172268, 0.03957927]),\n 'param_n_neighbors': masked_array(data=[2, 2, 3, 3, 5, 5, 7, 7, 10, 10],\n              mask=[False, False, False, False, False, False, False, False,\n                    False, False],\n        fill_value='?',\n             dtype=object),\n 'param_weights': masked_array(data=['uniform', 'distance', 'uniform', 'distance',\n                    'uniform', 'distance', 'uniform', 'distance',\n                    'uniform', 'distance'],\n              mask=[False, False, False, False, False, False, False, False,\n                    False, False],\n        fill_value='?',\n             dtype=object),\n 'params': [{'n_neighbors': 2, 'weights': 'uniform'},\n  {'n_neighbors': 2, 'weights': 'distance'},\n  {'n_neighbors': 3, 'weights': 'uniform'},\n  {'n_neighbors': 3, 'weights': 'distance'},\n  {'n_neighbors': 5, 'weights': 'uniform'},\n  {'n_neighbors': 5, 'weights': 'distance'},\n  {'n_neighbors': 7, 'weights': 'uniform'},\n  {'n_neighbors': 7, 'weights': 'distance'},\n  {'n_neighbors': 10, 'weights': 'uniform'},\n  {'n_neighbors': 10, 'weights': 'distance'}],\n 'split0_test_score': array([0.95018116, 0.95471014, 0.94746377, 0.94746377, 0.93478261,\n        0.93568841, 0.92391304, 0.92753623, 0.91847826, 0.92753623]),\n 'split1_test_score': array([0.94650952, 0.95466908, 0.95013599, 0.94922937, 0.94741614,\n        0.94650952, 0.94197643, 0.94378966, 0.92837715, 0.93744334]),\n 'split2_test_score': array([0.95466908, 0.96373527, 0.94832276, 0.94922937, 0.94106981,\n        0.94288305, 0.92928377, 0.93291024, 0.91296464, 0.92837715]),\n 'split3_test_score': array([0.94922937, 0.9555757 , 0.94832276, 0.95013599, 0.93744334,\n        0.94016319, 0.92475068, 0.93109701, 0.90299184, 0.91387126]),\n 'split4_test_score': array([0.94288305, 0.94106981, 0.94378966, 0.94378966, 0.93019039,\n        0.93019039, 0.92928377, 0.93109701, 0.91205802, 0.92747053]),\n 'mean_test_score': array([0.94869444, 0.953952  , 0.94760699, 0.94796963, 0.93818046,\n        0.93908691, 0.92984154, 0.93328603, 0.91497398, 0.9269397 ]),\n 'std_test_score': array([0.00391763, 0.00728545, 0.00209824, 0.00226252, 0.00582368,\n        0.00568088, 0.00646439, 0.00553374, 0.0083431 , 0.00753411]),\n 'rank_test_score': array([ 2,  1,  4,  3,  6,  5,  8,  7, 10,  9])}"
     },
     "execution_count": 18,
     "metadata": {},
     "output_type": "execute_result"
    }
   ],
   "source": [
    "grid.cv_results_"
   ],
   "metadata": {
    "collapsed": false,
    "pycharm": {
     "name": "#%%\n"
    }
   }
  },
  {
   "cell_type": "code",
   "execution_count": 19,
   "outputs": [
    {
     "data": {
      "text/plain": "{'n_neighbors': 2, 'weights': 'distance'}"
     },
     "execution_count": 19,
     "metadata": {},
     "output_type": "execute_result"
    }
   ],
   "source": [
    "grid.best_params_"
   ],
   "metadata": {
    "collapsed": false,
    "pycharm": {
     "name": "#%%\n"
    }
   }
  },
  {
   "cell_type": "code",
   "execution_count": 20,
   "outputs": [],
   "source": [
    "model_knn = grid.best_estimator_"
   ],
   "metadata": {
    "collapsed": false,
    "pycharm": {
     "name": "#%%\n"
    }
   }
  },
  {
   "cell_type": "code",
   "execution_count": 21,
   "outputs": [
    {
     "data": {
      "text/plain": "KNeighborsClassifier(n_neighbors=2, weights='distance')"
     },
     "execution_count": 21,
     "metadata": {},
     "output_type": "execute_result"
    }
   ],
   "source": [
    "model_knn.fit(X_train, y_train)"
   ],
   "metadata": {
    "collapsed": false,
    "pycharm": {
     "name": "#%%\n"
    }
   }
  },
  {
   "cell_type": "code",
   "execution_count": 22,
   "outputs": [],
   "source": [
    "knn_pred = model_knn.predict(X_test)"
   ],
   "metadata": {
    "collapsed": false,
    "pycharm": {
     "name": "#%%\n"
    }
   }
  },
  {
   "cell_type": "code",
   "execution_count": 23,
   "outputs": [
    {
     "name": "stdout",
     "output_type": "stream",
     "text": [
      "Accuracy : 0.9565217391304348\n",
      "f1 : 0.9570272853707639\n"
     ]
    }
   ],
   "source": [
    "metrics(y_test, knn_pred)"
   ],
   "metadata": {
    "collapsed": false,
    "pycharm": {
     "name": "#%%\n"
    }
   }
  },
  {
   "cell_type": "code",
   "execution_count": 43,
   "outputs": [
    {
     "data": {
      "text/plain": "down    2425\nup      2179\nmov      912\ndtype: int64"
     },
     "execution_count": 43,
     "metadata": {},
     "output_type": "execute_result"
    }
   ],
   "source": [
    "pd.DataFrame(y_train).value_counts()"
   ],
   "metadata": {
    "collapsed": false,
    "pycharm": {
     "name": "#%%\n"
    }
   }
  },
  {
   "cell_type": "code",
   "execution_count": 47,
   "outputs": [
    {
     "data": {
      "text/plain": "up      235\ndown    229\nmov      88\ndtype: int64"
     },
     "execution_count": 47,
     "metadata": {},
     "output_type": "execute_result"
    }
   ],
   "source": [
    "pd.DataFrame(y_test).value_counts()"
   ],
   "metadata": {
    "collapsed": false,
    "pycharm": {
     "name": "#%%\n"
    }
   }
  },
  {
   "cell_type": "code",
   "execution_count": 49,
   "outputs": [
    {
     "data": {
      "text/plain": "array([[218,   6,   5],\n       [  1,  83,   4],\n       [  1,   7, 227]], dtype=int64)"
     },
     "execution_count": 49,
     "metadata": {},
     "output_type": "execute_result"
    }
   ],
   "source": [
    "confusion_matrix(y_test, knn_pred)"
   ],
   "metadata": {
    "collapsed": false,
    "pycharm": {
     "name": "#%%\n"
    }
   }
  },
  {
   "cell_type": "code",
   "execution_count": null,
   "outputs": [],
   "source": [],
   "metadata": {
    "collapsed": false,
    "pycharm": {
     "name": "#%%\n"
    }
   }
  }
 ],
 "metadata": {
  "kernelspec": {
   "display_name": "Python 3",
   "language": "python",
   "name": "python3"
  },
  "language_info": {
   "codemirror_mode": {
    "name": "ipython",
    "version": 2
   },
   "file_extension": ".py",
   "mimetype": "text/x-python",
   "name": "python",
   "nbconvert_exporter": "python",
   "pygments_lexer": "ipython2",
   "version": "2.7.6"
  }
 },
 "nbformat": 4,
 "nbformat_minor": 0
}