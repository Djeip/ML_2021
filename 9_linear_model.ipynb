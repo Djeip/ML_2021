{
 "cells": [
  {
   "cell_type": "code",
   "execution_count": 128,
   "outputs": [],
   "source": [
    "import pandas as pd\n",
    "from pandas.tseries.holiday import USFederalHolidayCalendar as calendar\n",
    "from statsmodels.api import OLS\n",
    "import seaborn as sns"
   ],
   "metadata": {
    "collapsed": false,
    "pycharm": {
     "name": "#%%\n"
    }
   }
  },
  {
   "cell_type": "markdown",
   "source": [
    "# Preprocessing"
   ],
   "metadata": {
    "collapsed": false,
    "pycharm": {
     "name": "#%% md\n"
    }
   }
  },
  {
   "cell_type": "code",
   "execution_count": null,
   "outputs": [],
   "source": [
    "passerbys = pd.read_csv(r\"C:\\Users\\Lenovo\\Documents\\passerbys.csv\")\n",
    "passerbys.isna().sum()"
   ],
   "metadata": {
    "collapsed": false,
    "pycharm": {
     "name": "#%%\n"
    }
   }
  },
  {
   "cell_type": "code",
   "execution_count": null,
   "outputs": [],
   "source": [
    "weather = pd.read_csv(r\"C:\\Users\\Lenovo\\Documents\\weather.csv\")\n",
    "weather.isna().sum()"
   ],
   "metadata": {
    "collapsed": false,
    "pycharm": {
     "name": "#%%\n"
    }
   }
  },
  {
   "cell_type": "code",
   "execution_count": 129,
   "outputs": [],
   "source": [
    "weather['DATE'] = pd.to_datetime(weather['DATE'])\n",
    "weather = weather.set_index('DATE', drop=False)\n",
    "passerbys['Date'] = pd.to_datetime(passerbys['Date'])\n",
    "passerbys = passerbys.set_index('Date', drop=False)\n",
    "\n",
    "passerbys = passerbys.resample('D').sum()  # аггрецаия данных\n",
    "\n",
    "passerbys['d'] = passerbys.index.dayofweek\n",
    "\n",
    "df = pd.merge(passerbys, weather, left_index=True, right_index=True)  # датасет со всеми фичами\n",
    "\n",
    "df = pd.merge(df, pd.get_dummies(df['d'], prefix='d'), left_index=True, right_index=True).dropna()\n",
    "\n",
    "cal = calendar()\n",
    "tmp = cal.holidays(start=df['DATE'].min(), end=df['DATE'].max())\n",
    "df['hd'] = df['DATE'].isin(tmp).astype(int)\n",
    "\n",
    "df['t'] = range(1,len(df)+1) # trend\n",
    "\n",
    "X1 = df[['TAVG', 'PRCP', 'd_0', 'd_1', 'd_2', 'd_3', 'd_4', 'd_5', 'd_6']]\n",
    "X2 = df[['TAVG', 'PRCP', 'd_0', 'd_1', 'd_2', 'd_3', 'd_4', 'd_5', 'd_6', 'hd']]\n",
    "X3 = df[['TAVG', 'PRCP', 'd_0', 'd_1', 'd_2', 'd_3', 'd_4', 'd_5', 'd_6', 'hd', 't']]\n",
    "y1 = df['Fremont Bridge East Sidewalk']\n",
    "y2 = df['Fremont Bridge West Sidewalk']"
   ],
   "metadata": {
    "collapsed": false,
    "pycharm": {
     "name": "#%%\n"
    }
   }
  },
  {
   "cell_type": "code",
   "execution_count": 138,
   "outputs": [
    {
     "data": {
      "text/plain": "            TAVG  PRCP  d_0  d_1  d_2  d_3  d_4  d_5  d_6  hd     t\n2013-04-01  12.8   0.0    1    0    0    0    0    0    0   0     1\n2013-04-02  11.5   0.0    0    1    0    0    0    0    0   0     2\n2013-04-03  11.7   0.0    0    0    1    0    0    0    0   0     3\n2013-04-04  12.0   8.4    0    0    0    1    0    0    0   0     4\n2013-04-05  12.2  18.5    0    0    0    0    1    0    0   0     5\n...          ...   ...  ...  ...  ...  ...  ...  ...  ...  ..   ...\n2019-06-24  14.7   0.0    1    0    0    0    0    0    0   0  2276\n2019-06-25  16.6   0.0    0    1    0    0    0    0    0   0  2277\n2019-06-28  16.1   0.0    0    0    0    0    1    0    0   0  2278\n2019-06-29  18.0   0.0    0    0    0    0    0    1    0   0  2279\n2019-06-30  19.8   0.0    0    0    0    0    0    0    1   0  2280\n\n[2280 rows x 11 columns]",
      "text/html": "<div>\n<style scoped>\n    .dataframe tbody tr th:only-of-type {\n        vertical-align: middle;\n    }\n\n    .dataframe tbody tr th {\n        vertical-align: top;\n    }\n\n    .dataframe thead th {\n        text-align: right;\n    }\n</style>\n<table border=\"1\" class=\"dataframe\">\n  <thead>\n    <tr style=\"text-align: right;\">\n      <th></th>\n      <th>TAVG</th>\n      <th>PRCP</th>\n      <th>d_0</th>\n      <th>d_1</th>\n      <th>d_2</th>\n      <th>d_3</th>\n      <th>d_4</th>\n      <th>d_5</th>\n      <th>d_6</th>\n      <th>hd</th>\n      <th>t</th>\n    </tr>\n  </thead>\n  <tbody>\n    <tr>\n      <th>2013-04-01</th>\n      <td>12.8</td>\n      <td>0.0</td>\n      <td>1</td>\n      <td>0</td>\n      <td>0</td>\n      <td>0</td>\n      <td>0</td>\n      <td>0</td>\n      <td>0</td>\n      <td>0</td>\n      <td>1</td>\n    </tr>\n    <tr>\n      <th>2013-04-02</th>\n      <td>11.5</td>\n      <td>0.0</td>\n      <td>0</td>\n      <td>1</td>\n      <td>0</td>\n      <td>0</td>\n      <td>0</td>\n      <td>0</td>\n      <td>0</td>\n      <td>0</td>\n      <td>2</td>\n    </tr>\n    <tr>\n      <th>2013-04-03</th>\n      <td>11.7</td>\n      <td>0.0</td>\n      <td>0</td>\n      <td>0</td>\n      <td>1</td>\n      <td>0</td>\n      <td>0</td>\n      <td>0</td>\n      <td>0</td>\n      <td>0</td>\n      <td>3</td>\n    </tr>\n    <tr>\n      <th>2013-04-04</th>\n      <td>12.0</td>\n      <td>8.4</td>\n      <td>0</td>\n      <td>0</td>\n      <td>0</td>\n      <td>1</td>\n      <td>0</td>\n      <td>0</td>\n      <td>0</td>\n      <td>0</td>\n      <td>4</td>\n    </tr>\n    <tr>\n      <th>2013-04-05</th>\n      <td>12.2</td>\n      <td>18.5</td>\n      <td>0</td>\n      <td>0</td>\n      <td>0</td>\n      <td>0</td>\n      <td>1</td>\n      <td>0</td>\n      <td>0</td>\n      <td>0</td>\n      <td>5</td>\n    </tr>\n    <tr>\n      <th>...</th>\n      <td>...</td>\n      <td>...</td>\n      <td>...</td>\n      <td>...</td>\n      <td>...</td>\n      <td>...</td>\n      <td>...</td>\n      <td>...</td>\n      <td>...</td>\n      <td>...</td>\n      <td>...</td>\n    </tr>\n    <tr>\n      <th>2019-06-24</th>\n      <td>14.7</td>\n      <td>0.0</td>\n      <td>1</td>\n      <td>0</td>\n      <td>0</td>\n      <td>0</td>\n      <td>0</td>\n      <td>0</td>\n      <td>0</td>\n      <td>0</td>\n      <td>2276</td>\n    </tr>\n    <tr>\n      <th>2019-06-25</th>\n      <td>16.6</td>\n      <td>0.0</td>\n      <td>0</td>\n      <td>1</td>\n      <td>0</td>\n      <td>0</td>\n      <td>0</td>\n      <td>0</td>\n      <td>0</td>\n      <td>0</td>\n      <td>2277</td>\n    </tr>\n    <tr>\n      <th>2019-06-28</th>\n      <td>16.1</td>\n      <td>0.0</td>\n      <td>0</td>\n      <td>0</td>\n      <td>0</td>\n      <td>0</td>\n      <td>1</td>\n      <td>0</td>\n      <td>0</td>\n      <td>0</td>\n      <td>2278</td>\n    </tr>\n    <tr>\n      <th>2019-06-29</th>\n      <td>18.0</td>\n      <td>0.0</td>\n      <td>0</td>\n      <td>0</td>\n      <td>0</td>\n      <td>0</td>\n      <td>0</td>\n      <td>1</td>\n      <td>0</td>\n      <td>0</td>\n      <td>2279</td>\n    </tr>\n    <tr>\n      <th>2019-06-30</th>\n      <td>19.8</td>\n      <td>0.0</td>\n      <td>0</td>\n      <td>0</td>\n      <td>0</td>\n      <td>0</td>\n      <td>0</td>\n      <td>0</td>\n      <td>1</td>\n      <td>0</td>\n      <td>2280</td>\n    </tr>\n  </tbody>\n</table>\n<p>2280 rows × 11 columns</p>\n</div>"
     },
     "execution_count": 138,
     "metadata": {},
     "output_type": "execute_result"
    }
   ],
   "source": [
    "X3"
   ],
   "metadata": {
    "collapsed": false,
    "pycharm": {
     "name": "#%%\n"
    }
   }
  },
  {
   "cell_type": "markdown",
   "source": [
    "# Model"
   ],
   "metadata": {
    "collapsed": false,
    "pycharm": {
     "name": "#%% md\n"
    }
   }
  },
  {
   "cell_type": "code",
   "execution_count": 130,
   "outputs": [],
   "source": [
    "def lin_model(y, X,pred=False):\n",
    "    model = OLS(y, X)\n",
    "    res = model.fit()\n",
    "    y1_pred = res.predict(X)\n",
    "    print(res.summary())\n",
    "    if pred:\n",
    "        return y1_pred"
   ],
   "metadata": {
    "collapsed": false,
    "pycharm": {
     "name": "#%%\n"
    }
   }
  },
  {
   "cell_type": "markdown",
   "source": [
    "#### Days of week"
   ],
   "metadata": {
    "collapsed": false,
    "pycharm": {
     "name": "#%% md\n"
    }
   }
  },
  {
   "cell_type": "code",
   "execution_count": 131,
   "outputs": [
    {
     "name": "stdout",
     "output_type": "stream",
     "text": [
      "                                 OLS Regression Results                                 \n",
      "========================================================================================\n",
      "Dep. Variable:     Fremont Bridge East Sidewalk   R-squared:                       0.729\n",
      "Model:                                      OLS   Adj. R-squared:                  0.728\n",
      "Method:                           Least Squares   F-statistic:                     764.0\n",
      "Date:                          Thu, 29 Sep 2022   Prob (F-statistic):               0.00\n",
      "Time:                                  15:37:50   Log-Likelihood:                -16369.\n",
      "No. Observations:                          2280   AIC:                         3.276e+04\n",
      "Df Residuals:                              2271   BIC:                         3.281e+04\n",
      "Df Model:                                     8                                         \n",
      "Covariance Type:                      nonrobust                                         \n",
      "==============================================================================\n",
      "                 coef    std err          t      P>|t|      [0.025      0.975]\n",
      "------------------------------------------------------------------------------\n",
      "TAVG          57.1476      1.146     49.857      0.000      54.900      59.395\n",
      "PRCP         -24.9250      1.037    -24.028      0.000     -26.959     -22.891\n",
      "d_0          825.0362     22.954     35.944      0.000     780.024     870.048\n",
      "d_1          948.7870     23.165     40.957      0.000     903.360     994.214\n",
      "d_2          932.7186     23.152     40.287      0.000     887.318     978.119\n",
      "d_3          861.8887     23.272     37.035      0.000     816.252     907.526\n",
      "d_4          705.0193     23.182     30.413      0.000     659.559     750.479\n",
      "d_5          167.6895     23.204      7.227      0.000     122.186     213.193\n",
      "d_6          127.5546     23.041      5.536      0.000      82.372     172.737\n",
      "==============================================================================\n",
      "Omnibus:                       77.592   Durbin-Watson:                   0.944\n",
      "Prob(Omnibus):                  0.000   Jarque-Bera (JB):              212.057\n",
      "Skew:                          -0.031   Prob(JB):                     8.96e-47\n",
      "Kurtosis:                       4.493   Cond. No.                         90.6\n",
      "==============================================================================\n",
      "\n",
      "Notes:\n",
      "[1] Standard Errors assume that the covariance matrix of the errors is correctly specified.\n"
     ]
    }
   ],
   "source": [
    "lin_model(y1,X1)"
   ],
   "metadata": {
    "collapsed": false,
    "pycharm": {
     "name": "#%%\n"
    }
   }
  },
  {
   "cell_type": "code",
   "execution_count": 132,
   "outputs": [
    {
     "name": "stdout",
     "output_type": "stream",
     "text": [
      "                                 OLS Regression Results                                 \n",
      "========================================================================================\n",
      "Dep. Variable:     Fremont Bridge West Sidewalk   R-squared:                       0.714\n",
      "Model:                                      OLS   Adj. R-squared:                  0.713\n",
      "Method:                           Least Squares   F-statistic:                     710.2\n",
      "Date:                          Thu, 29 Sep 2022   Prob (F-statistic):               0.00\n",
      "Time:                                  15:37:50   Log-Likelihood:                -16977.\n",
      "No. Observations:                          2280   AIC:                         3.397e+04\n",
      "Df Residuals:                              2271   BIC:                         3.402e+04\n",
      "Df Model:                                     8                                         \n",
      "Covariance Type:                      nonrobust                                         \n",
      "==============================================================================\n",
      "                 coef    std err          t      P>|t|      [0.025      0.975]\n",
      "------------------------------------------------------------------------------\n",
      "TAVG          64.1677      1.497     42.875      0.000      61.233      67.103\n",
      "PRCP         -28.3360      1.354    -20.921      0.000     -30.992     -25.680\n",
      "d_0         1043.0563     29.970     34.803      0.000     984.284    1101.828\n",
      "d_1         1173.5822     30.247     38.800      0.000    1114.268    1232.896\n",
      "d_2         1155.4413     30.229     38.223      0.000    1096.162    1214.720\n",
      "d_3         1046.6025     30.386     34.443      0.000     987.014    1106.191\n",
      "d_4          869.5951     30.268     28.729      0.000     810.239     928.952\n",
      "d_5           66.3156     30.297      2.189      0.029       6.903     125.729\n",
      "d_6            7.7342     30.084      0.257      0.797     -51.261      66.729\n",
      "==============================================================================\n",
      "Omnibus:                       92.739   Durbin-Watson:                   0.821\n",
      "Prob(Omnibus):                  0.000   Jarque-Bera (JB):              197.827\n",
      "Skew:                           0.259   Prob(JB):                     1.10e-43\n",
      "Kurtosis:                       4.347   Cond. No.                         90.6\n",
      "==============================================================================\n",
      "\n",
      "Notes:\n",
      "[1] Standard Errors assume that the covariance matrix of the errors is correctly specified.\n"
     ]
    }
   ],
   "source": [
    "lin_model(y2,X1)"
   ],
   "metadata": {
    "collapsed": false,
    "pycharm": {
     "name": "#%%\n"
    }
   }
  },
  {
   "cell_type": "markdown",
   "source": [
    "#### Days of week + holidays"
   ],
   "metadata": {
    "collapsed": false
   }
  },
  {
   "cell_type": "code",
   "execution_count": 133,
   "outputs": [
    {
     "name": "stdout",
     "output_type": "stream",
     "text": [
      "                                 OLS Regression Results                                 \n",
      "========================================================================================\n",
      "Dep. Variable:     Fremont Bridge East Sidewalk   R-squared:                       0.749\n",
      "Model:                                      OLS   Adj. R-squared:                  0.748\n",
      "Method:                           Least Squares   F-statistic:                     752.7\n",
      "Date:                          Thu, 29 Sep 2022   Prob (F-statistic):               0.00\n",
      "Time:                                  15:37:50   Log-Likelihood:                -16282.\n",
      "No. Observations:                          2280   AIC:                         3.258e+04\n",
      "Df Residuals:                              2270   BIC:                         3.264e+04\n",
      "Df Model:                                     9                                         \n",
      "Covariance Type:                      nonrobust                                         \n",
      "==============================================================================\n",
      "                 coef    std err          t      P>|t|      [0.025      0.975]\n",
      "------------------------------------------------------------------------------\n",
      "TAVG          56.2395      1.106     50.866      0.000      54.071      58.408\n",
      "PRCP         -25.3275      0.999    -25.348      0.000     -27.287     -23.368\n",
      "d_0          901.1951     22.817     39.497      0.000     856.451     945.939\n",
      "d_1          967.9513     22.349     43.311      0.000     924.125    1011.777\n",
      "d_2          951.8472     22.336     42.616      0.000     908.047     995.648\n",
      "d_3          889.6541     22.502     39.537      0.000     845.528     933.780\n",
      "d_4          727.5718     22.382     32.506      0.000     683.680     771.464\n",
      "d_5          180.1921     22.360      8.059      0.000     136.344     224.040\n",
      "d_6          139.7986     22.202      6.297      0.000      96.260     183.337\n",
      "hd          -549.5319     40.964    -13.415      0.000    -629.863    -469.201\n",
      "==============================================================================\n",
      "Omnibus:                       79.711   Durbin-Watson:                   0.974\n",
      "Prob(Omnibus):                  0.000   Jarque-Bera (JB):              187.340\n",
      "Skew:                           0.169   Prob(JB):                     2.09e-41\n",
      "Kurtosis:                       4.363   Cond. No.                         95.9\n",
      "==============================================================================\n",
      "\n",
      "Notes:\n",
      "[1] Standard Errors assume that the covariance matrix of the errors is correctly specified.\n"
     ]
    }
   ],
   "source": [
    "lin_model(y1,X2)"
   ],
   "metadata": {
    "collapsed": false,
    "pycharm": {
     "name": "#%%\n"
    }
   }
  },
  {
   "cell_type": "code",
   "execution_count": 134,
   "outputs": [
    {
     "name": "stdout",
     "output_type": "stream",
     "text": [
      "                                 OLS Regression Results                                 \n",
      "========================================================================================\n",
      "Dep. Variable:     Fremont Bridge West Sidewalk   R-squared:                       0.739\n",
      "Model:                                      OLS   Adj. R-squared:                  0.738\n",
      "Method:                           Least Squares   F-statistic:                     712.9\n",
      "Date:                          Thu, 29 Sep 2022   Prob (F-statistic):               0.00\n",
      "Time:                                  15:37:50   Log-Likelihood:                -16876.\n",
      "No. Observations:                          2280   AIC:                         3.377e+04\n",
      "Df Residuals:                              2270   BIC:                         3.383e+04\n",
      "Df Model:                                     9                                         \n",
      "Covariance Type:                      nonrobust                                         \n",
      "==============================================================================\n",
      "                 coef    std err          t      P>|t|      [0.025      0.975]\n",
      "------------------------------------------------------------------------------\n",
      "TAVG          62.8936      1.435     43.836      0.000      60.080      65.707\n",
      "PRCP         -28.9008      1.297    -22.290      0.000     -31.443     -26.358\n",
      "d_0         1149.9122     29.609     38.837      0.000    1091.850    1207.975\n",
      "d_1         1200.4710     29.001     41.394      0.000    1143.600    1257.342\n",
      "d_2         1182.2799     28.984     40.791      0.000    1125.442    1239.118\n",
      "d_3         1085.5592     29.199     37.177      0.000    1028.299    1142.819\n",
      "d_4          901.2377     29.045     31.029      0.000     844.281     958.195\n",
      "d_5           83.8575     29.015      2.890      0.004      26.958     140.757\n",
      "d_6           24.9133     28.810      0.865      0.387     -31.584      81.411\n",
      "hd          -771.0298     53.157    -14.505      0.000    -875.272    -666.788\n",
      "==============================================================================\n",
      "Omnibus:                      140.835   Durbin-Watson:                   0.819\n",
      "Prob(Omnibus):                  0.000   Jarque-Bera (JB):              213.433\n",
      "Skew:                           0.510   Prob(JB):                     4.50e-47\n",
      "Kurtosis:                       4.098   Cond. No.                         95.9\n",
      "==============================================================================\n",
      "\n",
      "Notes:\n",
      "[1] Standard Errors assume that the covariance matrix of the errors is correctly specified.\n"
     ]
    }
   ],
   "source": [
    "lin_model(y2,X2)"
   ],
   "metadata": {
    "collapsed": false,
    "pycharm": {
     "name": "#%%\n"
    }
   }
  },
  {
   "cell_type": "markdown",
   "source": [
    "#### Days of week + holidays + t"
   ],
   "metadata": {
    "collapsed": false
   }
  },
  {
   "cell_type": "code",
   "execution_count": 135,
   "outputs": [
    {
     "name": "stdout",
     "output_type": "stream",
     "text": [
      "                                 OLS Regression Results                                 \n",
      "========================================================================================\n",
      "Dep. Variable:     Fremont Bridge East Sidewalk   R-squared:                       0.768\n",
      "Model:                                      OLS   Adj. R-squared:                  0.767\n",
      "Method:                           Least Squares   F-statistic:                     749.5\n",
      "Date:                          Thu, 29 Sep 2022   Prob (F-statistic):               0.00\n",
      "Time:                                  15:37:50   Log-Likelihood:                -16194.\n",
      "No. Observations:                          2280   AIC:                         3.241e+04\n",
      "Df Residuals:                              2269   BIC:                         3.247e+04\n",
      "Df Model:                                    10                                         \n",
      "Covariance Type:                      nonrobust                                         \n",
      "==============================================================================\n",
      "                 coef    std err          t      P>|t|      [0.025      0.975]\n",
      "------------------------------------------------------------------------------\n",
      "TAVG          54.8846      1.069     51.350      0.000      52.789      56.981\n",
      "PRCP         -25.7623      0.962    -26.775      0.000     -27.649     -23.876\n",
      "d_0         1063.7248     25.052     42.461      0.000    1014.598    1112.851\n",
      "d_1         1130.7356     24.667     45.840      0.000    1082.363    1179.108\n",
      "d_2         1114.2553     24.642     45.217      0.000    1065.932    1162.579\n",
      "d_3         1052.4367     24.795     42.445      0.000    1003.813    1101.060\n",
      "d_4          890.7840     24.711     36.049      0.000     842.326     939.242\n",
      "d_5          343.5014     24.695     13.910      0.000     295.074     391.929\n",
      "d_6          302.9611     24.558     12.337      0.000     254.803     351.119\n",
      "hd          -552.0110     39.425    -14.001      0.000    -629.324    -474.698\n",
      "t             -0.1270      0.009    -13.480      0.000      -0.145      -0.109\n",
      "==============================================================================\n",
      "Omnibus:                       68.307   Durbin-Watson:                   1.052\n",
      "Prob(Omnibus):                  0.000   Jarque-Bera (JB):              163.441\n",
      "Skew:                           0.097   Prob(JB):                     3.23e-36\n",
      "Kurtosis:                       4.297   Cond. No.                     1.11e+04\n",
      "==============================================================================\n",
      "\n",
      "Notes:\n",
      "[1] Standard Errors assume that the covariance matrix of the errors is correctly specified.\n",
      "[2] The condition number is large, 1.11e+04. This might indicate that there are\n",
      "strong multicollinearity or other numerical problems.\n"
     ]
    }
   ],
   "source": [
    "lin_model(y1,X3)"
   ],
   "metadata": {
    "collapsed": false,
    "pycharm": {
     "name": "#%%\n"
    }
   }
  },
  {
   "cell_type": "code",
   "execution_count": 136,
   "outputs": [
    {
     "name": "stdout",
     "output_type": "stream",
     "text": [
      "                                 OLS Regression Results                                 \n",
      "========================================================================================\n",
      "Dep. Variable:     Fremont Bridge West Sidewalk   R-squared:                       0.795\n",
      "Model:                                      OLS   Adj. R-squared:                  0.794\n",
      "Method:                           Least Squares   F-statistic:                     878.8\n",
      "Date:                          Thu, 29 Sep 2022   Prob (F-statistic):               0.00\n",
      "Time:                                  15:37:50   Log-Likelihood:                -16600.\n",
      "No. Observations:                          2280   AIC:                         3.322e+04\n",
      "Df Residuals:                              2269   BIC:                         3.329e+04\n",
      "Df Model:                                    10                                         \n",
      "Covariance Type:                      nonrobust                                         \n",
      "==============================================================================\n",
      "                 coef    std err          t      P>|t|      [0.025      0.975]\n",
      "------------------------------------------------------------------------------\n",
      "TAVG          65.8858      1.277     51.581      0.000      63.381      68.391\n",
      "PRCP         -27.9404      1.150    -24.299      0.000     -30.195     -25.686\n",
      "d_0          790.9775     29.938     26.420      0.000     732.268     849.687\n",
      "d_1          840.9740     29.479     28.528      0.000     783.166     898.782\n",
      "d_2          823.6139     29.449     27.967      0.000     765.864     881.364\n",
      "d_3          726.0659     29.632     24.503      0.000     667.957     784.174\n",
      "d_4          540.7957     29.531     18.313      0.000     482.885     598.706\n",
      "d_5         -276.7990     29.512     -9.379      0.000    -334.673    -218.925\n",
      "d_6         -335.4190     29.348    -11.429      0.000    -392.971    -277.868\n",
      "hd          -765.5550     47.116    -16.248      0.000    -857.949    -673.161\n",
      "t              0.2805      0.011     24.911      0.000       0.258       0.303\n",
      "==============================================================================\n",
      "Omnibus:                       63.368   Durbin-Watson:                   1.043\n",
      "Prob(Omnibus):                  0.000   Jarque-Bera (JB):              140.089\n",
      "Skew:                           0.121   Prob(JB):                     3.80e-31\n",
      "Kurtosis:                       4.190   Cond. No.                     1.11e+04\n",
      "==============================================================================\n",
      "\n",
      "Notes:\n",
      "[1] Standard Errors assume that the covariance matrix of the errors is correctly specified.\n",
      "[2] The condition number is large, 1.11e+04. This might indicate that there are\n",
      "strong multicollinearity or other numerical problems.\n"
     ]
    }
   ],
   "source": [
    "lin_model(y2,X3)"
   ],
   "metadata": {
    "collapsed": false,
    "pycharm": {
     "name": "#%%\n"
    }
   }
  },
  {
   "cell_type": "code",
   "execution_count": 139,
   "outputs": [],
   "source": [
    "model = OLS(y1, X3)\n",
    "res = model.fit()"
   ],
   "metadata": {
    "collapsed": false,
    "pycharm": {
     "name": "#%%\n"
    }
   }
  },
  {
   "cell_type": "code",
   "execution_count": 149,
   "outputs": [
    {
     "data": {
      "text/plain": "<seaborn.axisgrid.FacetGrid at 0x1ebebec5b50>"
     },
     "execution_count": 149,
     "metadata": {},
     "output_type": "execute_result"
    },
    {
     "data": {
      "text/plain": "<Figure size 360x360 with 1 Axes>",
      "image/png": "[encoded data removed]"
     },
     "metadata": {
      "needs_background": "light"
     },
     "output_type": "display_data"
    }
   ],
   "source": [
    "sns.displot(res.resid)"
   ],
   "metadata": {
    "collapsed": false,
    "pycharm": {
     "name": "#%%\n"
    }
   }
  },
  {
   "cell_type": "code",
   "execution_count": null,
   "outputs": [],
   "source": [],
   "metadata": {
    "collapsed": false,
    "pycharm": {
     "name": "#%%\n"
    }
   }
  },
  {
   "cell_type": "markdown",
   "source": [
    "# Вывод\n",
    "Все модели показали себя довольно хорошо. При этом наилучшие результаты были достигнуты при учете дней недели, праздников и переменной времени. Если рассматривать последнюю модель, то можно сделать вывод, относительно критерия жако бера, говорящий о ненормальности распределения данных и возможной смещенности оценки,при этом зрительно распределение незначительно отличается от нормального"
   ],
   "metadata": {
    "collapsed": false,
    "pycharm": {
     "name": "#%% md\n"
    }
   }
  }
 ],
 "metadata": {
  "kernelspec": {
   "display_name": "Python 3",
   "language": "python",
   "name": "python3"
  },
  "language_info": {
   "codemirror_mode": {
    "name": "ipython",
    "version": 2
   },
   "file_extension": ".py",
   "mimetype": "text/x-python",
   "name": "python",
   "nbconvert_exporter": "python",
   "pygments_lexer": "ipython2",
   "version": "2.7.6"
  }
 },
 "nbformat": 4,
 "nbformat_minor": 0
}