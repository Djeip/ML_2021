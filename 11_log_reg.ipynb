{
 "cells": [
  {
   "cell_type": "code",
   "execution_count": 1,
   "outputs": [],
   "source": [
    "import pandas as pd\n",
    "import numpy as np\n",
    "from sklearn.preprocessing import OneHotEncoder\n",
    "from sklearn.linear_model import LogisticRegression\n",
    "from sklearn.model_selection import GridSearchCV\n",
    "from sklearn.model_selection import train_test_split\n",
    "from sklearn.metrics import accuracy_score, f1_score, roc_auc_score\n",
    "import shap"
   ],
   "metadata": {
    "collapsed": false,
    "pycharm": {
     "name": "#%%\n"
    }
   }
  },
  {
   "cell_type": "code",
   "execution_count": 2,
   "outputs": [],
   "source": [
    "df = pd.read_csv(r\"C:\\Users\\Lenovo\\Documents\\telecom_users.csv\")"
   ],
   "metadata": {
    "collapsed": false,
    "pycharm": {
     "name": "#%%\n"
    }
   }
  },
  {
   "cell_type": "code",
   "execution_count": 3,
   "outputs": [
    {
     "data": {
      "text/plain": "   Unnamed: 0  customerID  gender  SeniorCitizen Partner Dependents  tenure  \\\n0        1869  7010-BRBUU    Male              0     Yes        Yes      72   \n1        4528  9688-YGXVR  Female              0      No         No      44   \n2        6344  9286-DOJGF  Female              1     Yes         No      38   \n3        6739  6994-KERXL    Male              0      No         No       4   \n4         432  2181-UAESM    Male              0      No         No       2   \n\n  PhoneService MultipleLines InternetService  ...     DeviceProtection  \\\n0          Yes           Yes              No  ...  No internet service   \n1          Yes            No     Fiber optic  ...                  Yes   \n2          Yes           Yes     Fiber optic  ...                   No   \n3          Yes            No             DSL  ...                   No   \n4          Yes            No             DSL  ...                  Yes   \n\n           TechSupport          StreamingTV      StreamingMovies  \\\n0  No internet service  No internet service  No internet service   \n1                   No                  Yes                   No   \n2                   No                   No                   No   \n3                   No                   No                  Yes   \n4                   No                   No                   No   \n\n         Contract PaperlessBilling              PaymentMethod MonthlyCharges  \\\n0        Two year               No    Credit card (automatic)          24.10   \n1  Month-to-month              Yes    Credit card (automatic)          88.15   \n2  Month-to-month              Yes  Bank transfer (automatic)          74.95   \n3  Month-to-month              Yes           Electronic check          55.90   \n4  Month-to-month               No           Electronic check          53.45   \n\n  TotalCharges  Churn  \n0      1734.65     No  \n1       3973.2     No  \n2      2869.85    Yes  \n3        238.5     No  \n4        119.5     No  \n\n[5 rows x 22 columns]",
      "text/html": "<div>\n<style scoped>\n    .dataframe tbody tr th:only-of-type {\n        vertical-align: middle;\n    }\n\n    .dataframe tbody tr th {\n        vertical-align: top;\n    }\n\n    .dataframe thead th {\n        text-align: right;\n    }\n</style>\n<table border=\"1\" class=\"dataframe\">\n  <thead>\n    <tr style=\"text-align: right;\">\n      <th></th>\n      <th>Unnamed: 0</th>\n      <th>customerID</th>\n      <th>gender</th>\n      <th>SeniorCitizen</th>\n      <th>Partner</th>\n      <th>Dependents</th>\n      <th>tenure</th>\n      <th>PhoneService</th>\n      <th>MultipleLines</th>\n      <th>InternetService</th>\n      <th>...</th>\n      <th>DeviceProtection</th>\n      <th>TechSupport</th>\n      <th>StreamingTV</th>\n      <th>StreamingMovies</th>\n      <th>Contract</th>\n      <th>PaperlessBilling</th>\n      <th>PaymentMethod</th>\n      <th>MonthlyCharges</th>\n      <th>TotalCharges</th>\n      <th>Churn</th>\n    </tr>\n  </thead>\n  <tbody>\n    <tr>\n      <th>0</th>\n      <td>1869</td>\n      <td>7010-BRBUU</td>\n      <td>Male</td>\n      <td>0</td>\n      <td>Yes</td>\n      <td>Yes</td>\n      <td>72</td>\n      <td>Yes</td>\n      <td>Yes</td>\n      <td>No</td>\n      <td>...</td>\n      <td>No internet service</td>\n      <td>No internet service</td>\n      <td>No internet service</td>\n      <td>No internet service</td>\n      <td>Two year</td>\n      <td>No</td>\n      <td>Credit card (automatic)</td>\n      <td>24.10</td>\n      <td>1734.65</td>\n      <td>No</td>\n    </tr>\n    <tr>\n      <th>1</th>\n      <td>4528</td>\n      <td>9688-YGXVR</td>\n      <td>Female</td>\n      <td>0</td>\n      <td>No</td>\n      <td>No</td>\n      <td>44</td>\n      <td>Yes</td>\n      <td>No</td>\n      <td>Fiber optic</td>\n      <td>...</td>\n      <td>Yes</td>\n      <td>No</td>\n      <td>Yes</td>\n      <td>No</td>\n      <td>Month-to-month</td>\n      <td>Yes</td>\n      <td>Credit card (automatic)</td>\n      <td>88.15</td>\n      <td>3973.2</td>\n      <td>No</td>\n    </tr>\n    <tr>\n      <th>2</th>\n      <td>6344</td>\n      <td>9286-DOJGF</td>\n      <td>Female</td>\n      <td>1</td>\n      <td>Yes</td>\n      <td>No</td>\n      <td>38</td>\n      <td>Yes</td>\n      <td>Yes</td>\n      <td>Fiber optic</td>\n      <td>...</td>\n      <td>No</td>\n      <td>No</td>\n      <td>No</td>\n      <td>No</td>\n      <td>Month-to-month</td>\n      <td>Yes</td>\n      <td>Bank transfer (automatic)</td>\n      <td>74.95</td>\n      <td>2869.85</td>\n      <td>Yes</td>\n    </tr>\n    <tr>\n      <th>3</th>\n      <td>6739</td>\n      <td>6994-KERXL</td>\n      <td>Male</td>\n      <td>0</td>\n      <td>No</td>\n      <td>No</td>\n      <td>4</td>\n      <td>Yes</td>\n      <td>No</td>\n      <td>DSL</td>\n      <td>...</td>\n      <td>No</td>\n      <td>No</td>\n      <td>No</td>\n      <td>Yes</td>\n      <td>Month-to-month</td>\n      <td>Yes</td>\n      <td>Electronic check</td>\n      <td>55.90</td>\n      <td>238.5</td>\n      <td>No</td>\n    </tr>\n    <tr>\n      <th>4</th>\n      <td>432</td>\n      <td>2181-UAESM</td>\n      <td>Male</td>\n      <td>0</td>\n      <td>No</td>\n      <td>No</td>\n      <td>2</td>\n      <td>Yes</td>\n      <td>No</td>\n      <td>DSL</td>\n      <td>...</td>\n      <td>Yes</td>\n      <td>No</td>\n      <td>No</td>\n      <td>No</td>\n      <td>Month-to-month</td>\n      <td>No</td>\n      <td>Electronic check</td>\n      <td>53.45</td>\n      <td>119.5</td>\n      <td>No</td>\n    </tr>\n  </tbody>\n</table>\n<p>5 rows × 22 columns</p>\n</div>"
     },
     "execution_count": 3,
     "metadata": {},
     "output_type": "execute_result"
    }
   ],
   "source": [
    "df.head()"
   ],
   "metadata": {
    "collapsed": false,
    "pycharm": {
     "name": "#%%\n"
    }
   }
  },
  {
   "cell_type": "code",
   "execution_count": 4,
   "outputs": [
    {
     "data": {
      "text/plain": "Unnamed: 0          0\ncustomerID          0\ngender              0\nSeniorCitizen       0\nPartner             0\nDependents          0\ntenure              0\nPhoneService        0\nMultipleLines       0\nInternetService     0\nOnlineSecurity      0\nOnlineBackup        0\nDeviceProtection    0\nTechSupport         0\nStreamingTV         0\nStreamingMovies     0\nContract            0\nPaperlessBilling    0\nPaymentMethod       0\nMonthlyCharges      0\nTotalCharges        0\nChurn               0\ndtype: int64"
     },
     "execution_count": 4,
     "metadata": {},
     "output_type": "execute_result"
    }
   ],
   "source": [
    "df.isna().sum()"
   ],
   "metadata": {
    "collapsed": false,
    "pycharm": {
     "name": "#%%\n"
    }
   }
  },
  {
   "cell_type": "code",
   "execution_count": 5,
   "outputs": [
    {
     "data": {
      "text/plain": "Unnamed: 0            int64\ncustomerID           object\ngender               object\nSeniorCitizen         int64\nPartner              object\nDependents           object\ntenure                int64\nPhoneService         object\nMultipleLines        object\nInternetService      object\nOnlineSecurity       object\nOnlineBackup         object\nDeviceProtection     object\nTechSupport          object\nStreamingTV          object\nStreamingMovies      object\nContract             object\nPaperlessBilling     object\nPaymentMethod        object\nMonthlyCharges      float64\nTotalCharges         object\nChurn                object\ndtype: object"
     },
     "execution_count": 5,
     "metadata": {},
     "output_type": "execute_result"
    }
   ],
   "source": [
    "df.dtypes"
   ],
   "metadata": {
    "collapsed": false,
    "pycharm": {
     "name": "#%%\n"
    }
   }
  },
  {
   "cell_type": "code",
   "execution_count": 6,
   "outputs": [],
   "source": [
    "df1 = df[df['TotalCharges'] != ' ']"
   ],
   "metadata": {
    "collapsed": false,
    "pycharm": {
     "name": "#%%\n"
    }
   }
  },
  {
   "cell_type": "code",
   "execution_count": 7,
   "outputs": [
    {
     "name": "stderr",
     "output_type": "stream",
     "text": [
      "\n",
      "A value is trying to be set on a copy of a slice from a DataFrame.\n",
      "Try using .loc[row_indexer,col_indexer] = value instead\n",
      "\n",
      "See the caveats in the documentation: https://pandas.pydata.org/pandas-docs/stable/user_guide/indexing.html#returning-a-view-versus-a-copy\n"
     ]
    }
   ],
   "source": [
    "df1['TotalCharges'] = df1.TotalCharges.astype(float)"
   ],
   "metadata": {
    "collapsed": false,
    "pycharm": {
     "name": "#%%\n"
    }
   }
  },
  {
   "cell_type": "code",
   "execution_count": 8,
   "outputs": [],
   "source": [
    "X = df1.iloc[:, 2:-1]\n",
    "y = df1.iloc[:, -1].replace({'Yes':1,'No':0})"
   ],
   "metadata": {
    "collapsed": false,
    "pycharm": {
     "name": "#%%\n"
    }
   }
  },
  {
   "cell_type": "code",
   "execution_count": 9,
   "outputs": [
    {
     "data": {
      "text/plain": "      gender  SeniorCitizen Partner Dependents  tenure PhoneService  \\\n0       Male              0     Yes        Yes      72          Yes   \n1     Female              0      No         No      44          Yes   \n2     Female              1     Yes         No      38          Yes   \n3       Male              0      No         No       4          Yes   \n4       Male              0      No         No       2          Yes   \n...      ...            ...     ...        ...     ...          ...   \n5981    Male              0     Yes         No       1          Yes   \n5982  Female              0     Yes        Yes      23          Yes   \n5983    Male              0     Yes        Yes      12          Yes   \n5984    Male              1      No         No      12          Yes   \n5985    Male              0      No         No      26          Yes   \n\n     MultipleLines InternetService       OnlineSecurity         OnlineBackup  \\\n0              Yes              No  No internet service  No internet service   \n1               No     Fiber optic                   No                  Yes   \n2              Yes     Fiber optic                   No                   No   \n3               No             DSL                   No                   No   \n4               No             DSL                  Yes                   No   \n...            ...             ...                  ...                  ...   \n5981            No     Fiber optic                  Yes                   No   \n5982           Yes             DSL                  Yes                  Yes   \n5983            No              No  No internet service  No internet service   \n5984           Yes     Fiber optic                   No                   No   \n5985            No              No  No internet service  No internet service   \n\n         DeviceProtection          TechSupport          StreamingTV  \\\n0     No internet service  No internet service  No internet service   \n1                     Yes                   No                  Yes   \n2                      No                   No                   No   \n3                      No                   No                   No   \n4                     Yes                   No                   No   \n...                   ...                  ...                  ...   \n5981                   No                   No                  Yes   \n5982                  Yes                  Yes                  Yes   \n5983  No internet service  No internet service  No internet service   \n5984                  Yes                   No                  Yes   \n5985  No internet service  No internet service  No internet service   \n\n          StreamingMovies        Contract PaperlessBilling  \\\n0     No internet service        Two year               No   \n1                      No  Month-to-month              Yes   \n2                      No  Month-to-month              Yes   \n3                     Yes  Month-to-month              Yes   \n4                      No  Month-to-month               No   \n...                   ...             ...              ...   \n5981                  Yes  Month-to-month              Yes   \n5982                  Yes        Two year              Yes   \n5983  No internet service  Month-to-month              Yes   \n5984                  Yes  Month-to-month              Yes   \n5985  No internet service        One year               No   \n\n                  PaymentMethod  MonthlyCharges  TotalCharges  \n0       Credit card (automatic)           24.10       1734.65  \n1       Credit card (automatic)           88.15       3973.20  \n2     Bank transfer (automatic)           74.95       2869.85  \n3              Electronic check           55.90        238.50  \n4              Electronic check           53.45        119.50  \n...                         ...             ...           ...  \n5981           Electronic check           95.00         95.00  \n5982    Credit card (automatic)           91.10       2198.30  \n5983           Electronic check           21.15        306.05  \n5984           Electronic check           99.45       1200.15  \n5985    Credit card (automatic)           19.80        457.30  \n\n[5976 rows x 19 columns]",
      "text/html": "<div>\n<style scoped>\n    .dataframe tbody tr th:only-of-type {\n        vertical-align: middle;\n    }\n\n    .dataframe tbody tr th {\n        vertical-align: top;\n    }\n\n    .dataframe thead th {\n        text-align: right;\n    }\n</style>\n<table border=\"1\" class=\"dataframe\">\n  <thead>\n    <tr style=\"text-align: right;\">\n      <th></th>\n      <th>gender</th>\n      <th>SeniorCitizen</th>\n      <th>Partner</th>\n      <th>Dependents</th>\n      <th>tenure</th>\n      <th>PhoneService</th>\n      <th>MultipleLines</th>\n      <th>InternetService</th>\n      <th>OnlineSecurity</th>\n      <th>OnlineBackup</th>\n      <th>DeviceProtection</th>\n      <th>TechSupport</th>\n      <th>StreamingTV</th>\n      <th>StreamingMovies</th>\n      <th>Contract</th>\n      <th>PaperlessBilling</th>\n      <th>PaymentMethod</th>\n      <th>MonthlyCharges</th>\n      <th>TotalCharges</th>\n    </tr>\n  </thead>\n  <tbody>\n    <tr>\n      <th>0</th>\n      <td>Male</td>\n      <td>0</td>\n      <td>Yes</td>\n      <td>Yes</td>\n      <td>72</td>\n      <td>Yes</td>\n      <td>Yes</td>\n      <td>No</td>\n      <td>No internet service</td>\n      <td>No internet service</td>\n      <td>No internet service</td>\n      <td>No internet service</td>\n      <td>No internet service</td>\n      <td>No internet service</td>\n      <td>Two year</td>\n      <td>No</td>\n      <td>Credit card (automatic)</td>\n      <td>24.10</td>\n      <td>1734.65</td>\n    </tr>\n    <tr>\n      <th>1</th>\n      <td>Female</td>\n      <td>0</td>\n      <td>No</td>\n      <td>No</td>\n      <td>44</td>\n      <td>Yes</td>\n      <td>No</td>\n      <td>Fiber optic</td>\n      <td>No</td>\n      <td>Yes</td>\n      <td>Yes</td>\n      <td>No</td>\n      <td>Yes</td>\n      <td>No</td>\n      <td>Month-to-month</td>\n      <td>Yes</td>\n      <td>Credit card (automatic)</td>\n      <td>88.15</td>\n      <td>3973.20</td>\n    </tr>\n    <tr>\n      <th>2</th>\n      <td>Female</td>\n      <td>1</td>\n      <td>Yes</td>\n      <td>No</td>\n      <td>38</td>\n      <td>Yes</td>\n      <td>Yes</td>\n      <td>Fiber optic</td>\n      <td>No</td>\n      <td>No</td>\n      <td>No</td>\n      <td>No</td>\n      <td>No</td>\n      <td>No</td>\n      <td>Month-to-month</td>\n      <td>Yes</td>\n      <td>Bank transfer (automatic)</td>\n      <td>74.95</td>\n      <td>2869.85</td>\n    </tr>\n    <tr>\n      <th>3</th>\n      <td>Male</td>\n      <td>0</td>\n      <td>No</td>\n      <td>No</td>\n      <td>4</td>\n      <td>Yes</td>\n      <td>No</td>\n      <td>DSL</td>\n      <td>No</td>\n      <td>No</td>\n      <td>No</td>\n      <td>No</td>\n      <td>No</td>\n      <td>Yes</td>\n      <td>Month-to-month</td>\n      <td>Yes</td>\n      <td>Electronic check</td>\n      <td>55.90</td>\n      <td>238.50</td>\n    </tr>\n    <tr>\n      <th>4</th>\n      <td>Male</td>\n      <td>0</td>\n      <td>No</td>\n      <td>No</td>\n      <td>2</td>\n      <td>Yes</td>\n      <td>No</td>\n      <td>DSL</td>\n      <td>Yes</td>\n      <td>No</td>\n      <td>Yes</td>\n      <td>No</td>\n      <td>No</td>\n      <td>No</td>\n      <td>Month-to-month</td>\n      <td>No</td>\n      <td>Electronic check</td>\n      <td>53.45</td>\n      <td>119.50</td>\n    </tr>\n    <tr>\n      <th>...</th>\n      <td>...</td>\n      <td>...</td>\n      <td>...</td>\n      <td>...</td>\n      <td>...</td>\n      <td>...</td>\n      <td>...</td>\n      <td>...</td>\n      <td>...</td>\n      <td>...</td>\n      <td>...</td>\n      <td>...</td>\n      <td>...</td>\n      <td>...</td>\n      <td>...</td>\n      <td>...</td>\n      <td>...</td>\n      <td>...</td>\n      <td>...</td>\n    </tr>\n    <tr>\n      <th>5981</th>\n      <td>Male</td>\n      <td>0</td>\n      <td>Yes</td>\n      <td>No</td>\n      <td>1</td>\n      <td>Yes</td>\n      <td>No</td>\n      <td>Fiber optic</td>\n      <td>Yes</td>\n      <td>No</td>\n      <td>No</td>\n      <td>No</td>\n      <td>Yes</td>\n      <td>Yes</td>\n      <td>Month-to-month</td>\n      <td>Yes</td>\n      <td>Electronic check</td>\n      <td>95.00</td>\n      <td>95.00</td>\n    </tr>\n    <tr>\n      <th>5982</th>\n      <td>Female</td>\n      <td>0</td>\n      <td>Yes</td>\n      <td>Yes</td>\n      <td>23</td>\n      <td>Yes</td>\n      <td>Yes</td>\n      <td>DSL</td>\n      <td>Yes</td>\n      <td>Yes</td>\n      <td>Yes</td>\n      <td>Yes</td>\n      <td>Yes</td>\n      <td>Yes</td>\n      <td>Two year</td>\n      <td>Yes</td>\n      <td>Credit card (automatic)</td>\n      <td>91.10</td>\n      <td>2198.30</td>\n    </tr>\n    <tr>\n      <th>5983</th>\n      <td>Male</td>\n      <td>0</td>\n      <td>Yes</td>\n      <td>Yes</td>\n      <td>12</td>\n      <td>Yes</td>\n      <td>No</td>\n      <td>No</td>\n      <td>No internet service</td>\n      <td>No internet service</td>\n      <td>No internet service</td>\n      <td>No internet service</td>\n      <td>No internet service</td>\n      <td>No internet service</td>\n      <td>Month-to-month</td>\n      <td>Yes</td>\n      <td>Electronic check</td>\n      <td>21.15</td>\n      <td>306.05</td>\n    </tr>\n    <tr>\n      <th>5984</th>\n      <td>Male</td>\n      <td>1</td>\n      <td>No</td>\n      <td>No</td>\n      <td>12</td>\n      <td>Yes</td>\n      <td>Yes</td>\n      <td>Fiber optic</td>\n      <td>No</td>\n      <td>No</td>\n      <td>Yes</td>\n      <td>No</td>\n      <td>Yes</td>\n      <td>Yes</td>\n      <td>Month-to-month</td>\n      <td>Yes</td>\n      <td>Electronic check</td>\n      <td>99.45</td>\n      <td>1200.15</td>\n    </tr>\n    <tr>\n      <th>5985</th>\n      <td>Male</td>\n      <td>0</td>\n      <td>No</td>\n      <td>No</td>\n      <td>26</td>\n      <td>Yes</td>\n      <td>No</td>\n      <td>No</td>\n      <td>No internet service</td>\n      <td>No internet service</td>\n      <td>No internet service</td>\n      <td>No internet service</td>\n      <td>No internet service</td>\n      <td>No internet service</td>\n      <td>One year</td>\n      <td>No</td>\n      <td>Credit card (automatic)</td>\n      <td>19.80</td>\n      <td>457.30</td>\n    </tr>\n  </tbody>\n</table>\n<p>5976 rows × 19 columns</p>\n</div>"
     },
     "execution_count": 9,
     "metadata": {},
     "output_type": "execute_result"
    }
   ],
   "source": [
    "X"
   ],
   "metadata": {
    "collapsed": false,
    "pycharm": {
     "name": "#%%\n"
    }
   }
  },
  {
   "cell_type": "code",
   "execution_count": 10,
   "outputs": [
    {
     "data": {
      "text/plain": "      gender  SeniorCitizen  Partner  Dependents  tenure  PhoneService  \\\n0          1              0        1           1      72             1   \n1          0              0        0           0      44             1   \n2          0              1        1           0      38             1   \n3          1              0        0           0       4             1   \n4          1              0        0           0       2             1   \n...      ...            ...      ...         ...     ...           ...   \n5981       1              0        1           0       1             1   \n5982       0              0        1           1      23             1   \n5983       1              0        1           1      12             1   \n5984       1              1        0           0      12             1   \n5985       1              0        0           0      26             1   \n\n     MultipleLines InternetService       OnlineSecurity         OnlineBackup  \\\n0              Yes              No  No internet service  No internet service   \n1               No     Fiber optic                   No                  Yes   \n2              Yes     Fiber optic                   No                   No   \n3               No             DSL                   No                   No   \n4               No             DSL                  Yes                   No   \n...            ...             ...                  ...                  ...   \n5981            No     Fiber optic                  Yes                   No   \n5982           Yes             DSL                  Yes                  Yes   \n5983            No              No  No internet service  No internet service   \n5984           Yes     Fiber optic                   No                   No   \n5985            No              No  No internet service  No internet service   \n\n         DeviceProtection          TechSupport          StreamingTV  \\\n0     No internet service  No internet service  No internet service   \n1                     Yes                   No                  Yes   \n2                      No                   No                   No   \n3                      No                   No                   No   \n4                     Yes                   No                   No   \n...                   ...                  ...                  ...   \n5981                   No                   No                  Yes   \n5982                  Yes                  Yes                  Yes   \n5983  No internet service  No internet service  No internet service   \n5984                  Yes                   No                  Yes   \n5985  No internet service  No internet service  No internet service   \n\n          StreamingMovies        Contract  PaperlessBilling  \\\n0     No internet service        Two year                 0   \n1                      No  Month-to-month                 1   \n2                      No  Month-to-month                 1   \n3                     Yes  Month-to-month                 1   \n4                      No  Month-to-month                 0   \n...                   ...             ...               ...   \n5981                  Yes  Month-to-month                 1   \n5982                  Yes        Two year                 1   \n5983  No internet service  Month-to-month                 1   \n5984                  Yes  Month-to-month                 1   \n5985  No internet service        One year                 0   \n\n                  PaymentMethod  MonthlyCharges  TotalCharges  \n0       Credit card (automatic)           24.10       1734.65  \n1       Credit card (automatic)           88.15       3973.20  \n2     Bank transfer (automatic)           74.95       2869.85  \n3              Electronic check           55.90        238.50  \n4              Electronic check           53.45        119.50  \n...                         ...             ...           ...  \n5981           Electronic check           95.00         95.00  \n5982    Credit card (automatic)           91.10       2198.30  \n5983           Electronic check           21.15        306.05  \n5984           Electronic check           99.45       1200.15  \n5985    Credit card (automatic)           19.80        457.30  \n\n[5976 rows x 19 columns]",
      "text/html": "<div>\n<style scoped>\n    .dataframe tbody tr th:only-of-type {\n        vertical-align: middle;\n    }\n\n    .dataframe tbody tr th {\n        vertical-align: top;\n    }\n\n    .dataframe thead th {\n        text-align: right;\n    }\n</style>\n<table border=\"1\" class=\"dataframe\">\n  <thead>\n    <tr style=\"text-align: right;\">\n      <th></th>\n      <th>gender</th>\n      <th>SeniorCitizen</th>\n      <th>Partner</th>\n      <th>Dependents</th>\n      <th>tenure</th>\n      <th>PhoneService</th>\n      <th>MultipleLines</th>\n      <th>InternetService</th>\n      <th>OnlineSecurity</th>\n      <th>OnlineBackup</th>\n      <th>DeviceProtection</th>\n      <th>TechSupport</th>\n      <th>StreamingTV</th>\n      <th>StreamingMovies</th>\n      <th>Contract</th>\n      <th>PaperlessBilling</th>\n      <th>PaymentMethod</th>\n      <th>MonthlyCharges</th>\n      <th>TotalCharges</th>\n    </tr>\n  </thead>\n  <tbody>\n    <tr>\n      <th>0</th>\n      <td>1</td>\n      <td>0</td>\n      <td>1</td>\n      <td>1</td>\n      <td>72</td>\n      <td>1</td>\n      <td>Yes</td>\n      <td>No</td>\n      <td>No internet service</td>\n      <td>No internet service</td>\n      <td>No internet service</td>\n      <td>No internet service</td>\n      <td>No internet service</td>\n      <td>No internet service</td>\n      <td>Two year</td>\n      <td>0</td>\n      <td>Credit card (automatic)</td>\n      <td>24.10</td>\n      <td>1734.65</td>\n    </tr>\n    <tr>\n      <th>1</th>\n      <td>0</td>\n      <td>0</td>\n      <td>0</td>\n      <td>0</td>\n      <td>44</td>\n      <td>1</td>\n      <td>No</td>\n      <td>Fiber optic</td>\n      <td>No</td>\n      <td>Yes</td>\n      <td>Yes</td>\n      <td>No</td>\n      <td>Yes</td>\n      <td>No</td>\n      <td>Month-to-month</td>\n      <td>1</td>\n      <td>Credit card (automatic)</td>\n      <td>88.15</td>\n      <td>3973.20</td>\n    </tr>\n    <tr>\n      <th>2</th>\n      <td>0</td>\n      <td>1</td>\n      <td>1</td>\n      <td>0</td>\n      <td>38</td>\n      <td>1</td>\n      <td>Yes</td>\n      <td>Fiber optic</td>\n      <td>No</td>\n      <td>No</td>\n      <td>No</td>\n      <td>No</td>\n      <td>No</td>\n      <td>No</td>\n      <td>Month-to-month</td>\n      <td>1</td>\n      <td>Bank transfer (automatic)</td>\n      <td>74.95</td>\n      <td>2869.85</td>\n    </tr>\n    <tr>\n      <th>3</th>\n      <td>1</td>\n      <td>0</td>\n      <td>0</td>\n      <td>0</td>\n      <td>4</td>\n      <td>1</td>\n      <td>No</td>\n      <td>DSL</td>\n      <td>No</td>\n      <td>No</td>\n      <td>No</td>\n      <td>No</td>\n      <td>No</td>\n      <td>Yes</td>\n      <td>Month-to-month</td>\n      <td>1</td>\n      <td>Electronic check</td>\n      <td>55.90</td>\n      <td>238.50</td>\n    </tr>\n    <tr>\n      <th>4</th>\n      <td>1</td>\n      <td>0</td>\n      <td>0</td>\n      <td>0</td>\n      <td>2</td>\n      <td>1</td>\n      <td>No</td>\n      <td>DSL</td>\n      <td>Yes</td>\n      <td>No</td>\n      <td>Yes</td>\n      <td>No</td>\n      <td>No</td>\n      <td>No</td>\n      <td>Month-to-month</td>\n      <td>0</td>\n      <td>Electronic check</td>\n      <td>53.45</td>\n      <td>119.50</td>\n    </tr>\n    <tr>\n      <th>...</th>\n      <td>...</td>\n      <td>...</td>\n      <td>...</td>\n      <td>...</td>\n      <td>...</td>\n      <td>...</td>\n      <td>...</td>\n      <td>...</td>\n      <td>...</td>\n      <td>...</td>\n      <td>...</td>\n      <td>...</td>\n      <td>...</td>\n      <td>...</td>\n      <td>...</td>\n      <td>...</td>\n      <td>...</td>\n      <td>...</td>\n      <td>...</td>\n    </tr>\n    <tr>\n      <th>5981</th>\n      <td>1</td>\n      <td>0</td>\n      <td>1</td>\n      <td>0</td>\n      <td>1</td>\n      <td>1</td>\n      <td>No</td>\n      <td>Fiber optic</td>\n      <td>Yes</td>\n      <td>No</td>\n      <td>No</td>\n      <td>No</td>\n      <td>Yes</td>\n      <td>Yes</td>\n      <td>Month-to-month</td>\n      <td>1</td>\n      <td>Electronic check</td>\n      <td>95.00</td>\n      <td>95.00</td>\n    </tr>\n    <tr>\n      <th>5982</th>\n      <td>0</td>\n      <td>0</td>\n      <td>1</td>\n      <td>1</td>\n      <td>23</td>\n      <td>1</td>\n      <td>Yes</td>\n      <td>DSL</td>\n      <td>Yes</td>\n      <td>Yes</td>\n      <td>Yes</td>\n      <td>Yes</td>\n      <td>Yes</td>\n      <td>Yes</td>\n      <td>Two year</td>\n      <td>1</td>\n      <td>Credit card (automatic)</td>\n      <td>91.10</td>\n      <td>2198.30</td>\n    </tr>\n    <tr>\n      <th>5983</th>\n      <td>1</td>\n      <td>0</td>\n      <td>1</td>\n      <td>1</td>\n      <td>12</td>\n      <td>1</td>\n      <td>No</td>\n      <td>No</td>\n      <td>No internet service</td>\n      <td>No internet service</td>\n      <td>No internet service</td>\n      <td>No internet service</td>\n      <td>No internet service</td>\n      <td>No internet service</td>\n      <td>Month-to-month</td>\n      <td>1</td>\n      <td>Electronic check</td>\n      <td>21.15</td>\n      <td>306.05</td>\n    </tr>\n    <tr>\n      <th>5984</th>\n      <td>1</td>\n      <td>1</td>\n      <td>0</td>\n      <td>0</td>\n      <td>12</td>\n      <td>1</td>\n      <td>Yes</td>\n      <td>Fiber optic</td>\n      <td>No</td>\n      <td>No</td>\n      <td>Yes</td>\n      <td>No</td>\n      <td>Yes</td>\n      <td>Yes</td>\n      <td>Month-to-month</td>\n      <td>1</td>\n      <td>Electronic check</td>\n      <td>99.45</td>\n      <td>1200.15</td>\n    </tr>\n    <tr>\n      <th>5985</th>\n      <td>1</td>\n      <td>0</td>\n      <td>0</td>\n      <td>0</td>\n      <td>26</td>\n      <td>1</td>\n      <td>No</td>\n      <td>No</td>\n      <td>No internet service</td>\n      <td>No internet service</td>\n      <td>No internet service</td>\n      <td>No internet service</td>\n      <td>No internet service</td>\n      <td>No internet service</td>\n      <td>One year</td>\n      <td>0</td>\n      <td>Credit card (automatic)</td>\n      <td>19.80</td>\n      <td>457.30</td>\n    </tr>\n  </tbody>\n</table>\n<p>5976 rows × 19 columns</p>\n</div>"
     },
     "execution_count": 10,
     "metadata": {},
     "output_type": "execute_result"
    }
   ],
   "source": [
    "X[['gender','Partner','Dependents','PhoneService','PaperlessBilling']] = X[['gender','Partner','Dependents','PhoneService','PaperlessBilling']].replace({'Yes':1,'No':0,'Male':1,'Female':0})\n",
    "X"
   ],
   "metadata": {
    "collapsed": false,
    "pycharm": {
     "name": "#%%\n"
    }
   }
  },
  {
   "cell_type": "code",
   "execution_count": 11,
   "outputs": [],
   "source": [
    "enc = OneHotEncoder()"
   ],
   "metadata": {
    "collapsed": false,
    "pycharm": {
     "name": "#%%\n"
    }
   }
  },
  {
   "cell_type": "code",
   "execution_count": 12,
   "outputs": [
    {
     "data": {
      "text/plain": "<5976x7250 sparse matrix of type '<class 'numpy.float64'>'\n\twith 113544 stored elements in Compressed Sparse Row format>"
     },
     "execution_count": 12,
     "metadata": {},
     "output_type": "execute_result"
    }
   ],
   "source": [
    "X_enc = enc.fit_transform(X)\n",
    "X_enc"
   ],
   "metadata": {
    "collapsed": false,
    "pycharm": {
     "name": "#%%\n"
    }
   }
  },
  {
   "cell_type": "code",
   "execution_count": 13,
   "outputs": [],
   "source": [
    "model = LogisticRegression(max_iter=10000)"
   ],
   "metadata": {
    "collapsed": false,
    "pycharm": {
     "name": "#%%\n"
    }
   }
  },
  {
   "cell_type": "code",
   "execution_count": 14,
   "outputs": [],
   "source": [
    "\n",
    "X_train, X_test, y_train, y_test = train_test_split(X_enc, y, test_size=0.3, random_state=23)"
   ],
   "metadata": {
    "collapsed": false,
    "pycharm": {
     "name": "#%%\n"
    }
   }
  },
  {
   "cell_type": "code",
   "execution_count": 15,
   "outputs": [
    {
     "data": {
      "text/plain": "LogisticRegression(max_iter=10000)"
     },
     "execution_count": 15,
     "metadata": {},
     "output_type": "execute_result"
    }
   ],
   "source": [
    "model.fit(X_train, y_train)"
   ],
   "metadata": {
    "collapsed": false,
    "pycharm": {
     "name": "#%%\n"
    }
   }
  },
  {
   "cell_type": "code",
   "execution_count": 16,
   "outputs": [],
   "source": [
    "y_pred = model.predict(X_test)"
   ],
   "metadata": {
    "collapsed": false,
    "pycharm": {
     "name": "#%%\n"
    }
   }
  },
  {
   "cell_type": "code",
   "execution_count": 17,
   "outputs": [],
   "source": [
    "def metrics(y_true, y_pred):\n",
    "    print('Accuracy :', accuracy_score(y_true, y_pred))\n",
    "    print('f1 :', f1_score(y_true, y_pred))\n",
    "    print('ROC AUC :', roc_auc_score(y_true, y_pred))"
   ],
   "metadata": {
    "collapsed": false,
    "pycharm": {
     "name": "#%%\n"
    }
   }
  },
  {
   "cell_type": "code",
   "execution_count": 18,
   "outputs": [
    {
     "name": "stdout",
     "output_type": "stream",
     "text": [
      "Accuracy : 0.7908533184606804\n",
      "f1 score : 0.5874587458745875\n",
      "ROC AUC : 0.7132760173662083\n"
     ]
    }
   ],
   "source": [
    "metrics(y_test, y_pred)"
   ],
   "metadata": {
    "collapsed": false,
    "pycharm": {
     "name": "#%%\n"
    }
   }
  },
  {
   "cell_type": "code",
   "execution_count": 19,
   "outputs": [
    {
     "data": {
      "text/plain": "<AxesSubplot:>"
     },
     "execution_count": 19,
     "metadata": {},
     "output_type": "execute_result"
    },
    {
     "data": {
      "text/plain": "<Figure size 432x288 with 1 Axes>",
      "image/png": "[encoded data removed]"
     },
     "metadata": {
      "needs_background": "light"
     },
     "output_type": "display_data"
    }
   ],
   "source": [
    "y.hist()"
   ],
   "metadata": {
    "collapsed": false,
    "pycharm": {
     "name": "#%%\n"
    }
   }
  },
  {
   "cell_type": "code",
   "execution_count": 20,
   "outputs": [
    {
     "name": "stdout",
     "output_type": "stream",
     "text": [
      "Fitting 5 folds for each of 28 candidates, totalling 140 fits\n"
     ]
    },
    {
     "name": "stderr",
     "output_type": "stream",
     "text": [
      "Setting penalty='none' will ignore the C and l1_ratio parameters\n",
      "Setting penalty='none' will ignore the C and l1_ratio parameters\n",
      "Setting penalty='none' will ignore the C and l1_ratio parameters\n",
      "Setting penalty='none' will ignore the C and l1_ratio parameters\n",
      "Setting penalty='none' will ignore the C and l1_ratio parameters\n",
      "Setting penalty='none' will ignore the C and l1_ratio parameters\n",
      "Setting penalty='none' will ignore the C and l1_ratio parameters\n",
      "Setting penalty='none' will ignore the C and l1_ratio parameters\n",
      "Setting penalty='none' will ignore the C and l1_ratio parameters\n",
      "Setting penalty='none' will ignore the C and l1_ratio parameters\n",
      "Setting penalty='none' will ignore the C and l1_ratio parameters\n",
      "Setting penalty='none' will ignore the C and l1_ratio parameters\n",
      "Setting penalty='none' will ignore the C and l1_ratio parameters\n",
      "Setting penalty='none' will ignore the C and l1_ratio parameters\n",
      "Setting penalty='none' will ignore the C and l1_ratio parameters\n",
      "Setting penalty='none' will ignore the C and l1_ratio parameters\n",
      "Setting penalty='none' will ignore the C and l1_ratio parameters\n",
      "Setting penalty='none' will ignore the C and l1_ratio parameters\n",
      "Setting penalty='none' will ignore the C and l1_ratio parameters\n",
      "Setting penalty='none' will ignore the C and l1_ratio parameters\n",
      "Setting penalty='none' will ignore the C and l1_ratio parameters\n",
      "Setting penalty='none' will ignore the C and l1_ratio parameters\n",
      "Setting penalty='none' will ignore the C and l1_ratio parameters\n",
      "Setting penalty='none' will ignore the C and l1_ratio parameters\n",
      "Setting penalty='none' will ignore the C and l1_ratio parameters\n",
      "Setting penalty='none' will ignore the C and l1_ratio parameters\n",
      "Setting penalty='none' will ignore the C and l1_ratio parameters\n",
      "Setting penalty='none' will ignore the C and l1_ratio parameters\n",
      "Setting penalty='none' will ignore the C and l1_ratio parameters\n",
      "Setting penalty='none' will ignore the C and l1_ratio parameters\n",
      "\n",
      "70 fits failed out of a total of 140.\n",
      "The score on these train-test partitions for these parameters will be set to nan.\n",
      "If these failures are not expected, you can try to debug them by setting error_score='raise'.\n",
      "\n",
      "Below are more details about the failures:\n",
      "--------------------------------------------------------------------------------\n",
      "35 fits failed with the following error:\n",
      "Traceback (most recent call last):\n",
      "  File \"C:\\Users\\Lenovo\\AppData\\Local\\Programs\\Python\\Python39\\lib\\site-packages\\sklearn\\model_selection\\_validation.py\", line 680, in _fit_and_score\n",
      "    estimator.fit(X_train, y_train, **fit_params)\n",
      "  File \"C:\\Users\\Lenovo\\AppData\\Local\\Programs\\Python\\Python39\\lib\\site-packages\\sklearn\\linear_model\\_logistic.py\", line 1461, in fit\n",
      "    solver = _check_solver(self.solver, self.penalty, self.dual)\n",
      "  File \"C:\\Users\\Lenovo\\AppData\\Local\\Programs\\Python\\Python39\\lib\\site-packages\\sklearn\\linear_model\\_logistic.py\", line 447, in _check_solver\n",
      "    raise ValueError(\n",
      "ValueError: Solver lbfgs supports only 'l2' or 'none' penalties, got elasticnet penalty.\n",
      "\n",
      "--------------------------------------------------------------------------------\n",
      "35 fits failed with the following error:\n",
      "Traceback (most recent call last):\n",
      "  File \"C:\\Users\\Lenovo\\AppData\\Local\\Programs\\Python\\Python39\\lib\\site-packages\\sklearn\\model_selection\\_validation.py\", line 680, in _fit_and_score\n",
      "    estimator.fit(X_train, y_train, **fit_params)\n",
      "  File \"C:\\Users\\Lenovo\\AppData\\Local\\Programs\\Python\\Python39\\lib\\site-packages\\sklearn\\linear_model\\_logistic.py\", line 1461, in fit\n",
      "    solver = _check_solver(self.solver, self.penalty, self.dual)\n",
      "  File \"C:\\Users\\Lenovo\\AppData\\Local\\Programs\\Python\\Python39\\lib\\site-packages\\sklearn\\linear_model\\_logistic.py\", line 447, in _check_solver\n",
      "    raise ValueError(\n",
      "ValueError: Solver lbfgs supports only 'l2' or 'none' penalties, got l1 penalty.\n",
      "\n",
      "One or more of the test scores are non-finite: [0.51013108        nan        nan 0.         0.51013108        nan\n",
      "        nan 0.49430043 0.51013108        nan        nan 0.54239925\n",
      " 0.51013108        nan        nan 0.54879652 0.51013108        nan\n",
      "        nan 0.5423141  0.51013108        nan        nan 0.53862622\n",
      " 0.51013108        nan        nan 0.5352943 ]\n"
     ]
    }
   ],
   "source": [
    "params = {\n",
    "    \"C\":np.logspace(-3,3,7), \"penalty\":[\"none\",\"elasticnet\",\"l1\",\"l2\"]\n",
    "}\n",
    "grid = GridSearchCV(model, params, scoring='f1', cv=5,verbose=1)\n",
    "grid.fit(X_train, y_train);"
   ],
   "metadata": {
    "collapsed": false,
    "pycharm": {
     "name": "#%%\n"
    }
   }
  },
  {
   "cell_type": "code",
   "execution_count": 21,
   "outputs": [
    {
     "data": {
      "text/plain": "{'C': 1.0, 'penalty': 'l2'}"
     },
     "execution_count": 21,
     "metadata": {},
     "output_type": "execute_result"
    }
   ],
   "source": [
    "grid.best_params_"
   ],
   "metadata": {
    "collapsed": false,
    "pycharm": {
     "name": "#%%\n"
    }
   }
  },
  {
   "cell_type": "code",
   "execution_count": 22,
   "outputs": [],
   "source": [
    "model_best = grid.best_estimator_.fit(X_train, y_train)"
   ],
   "metadata": {
    "collapsed": false,
    "pycharm": {
     "name": "#%%\n"
    }
   }
  },
  {
   "cell_type": "code",
   "execution_count": 23,
   "outputs": [
    {
     "name": "stdout",
     "output_type": "stream",
     "text": [
      "Accuracy : 0.7908533184606804\n",
      "f1 score : 0.5874587458745875\n",
      "ROC AUC : 0.7132760173662083\n"
     ]
    }
   ],
   "source": [
    "metrics(y_test,model_best.predict(X_test))"
   ],
   "metadata": {
    "collapsed": false,
    "pycharm": {
     "name": "#%%\n"
    }
   }
  },
  {
   "cell_type": "code",
   "execution_count": 52,
   "outputs": [],
   "source": [
    "explainer = shap.Explainer(model_best, X_train)\n",
    "shap_values = explainer(X_test)"
   ],
   "metadata": {
    "collapsed": false,
    "pycharm": {
     "name": "#%%\n"
    }
   }
  },
  {
   "cell_type": "code",
   "execution_count": 53,
   "outputs": [
    {
     "data": {
      "text/plain": "<Figure size 576x396 with 2 Axes>",
      "image/png": "[encoded data removed]"
     },
     "metadata": {
      "needs_background": "light"
     },
     "output_type": "display_data"
    }
   ],
   "source": [
    "shap.plots.beeswarm(shap_values)"
   ],
   "metadata": {
    "collapsed": false,
    "pycharm": {
     "name": "#%%\n"
    }
   }
  },
  {
   "cell_type": "code",
   "execution_count": 38,
   "outputs": [
    {
     "data": {
      "text/plain": "<Figure size 576x468 with 1 Axes>",
      "image/png": "[encoded data removed]"
     },
     "metadata": {},
     "output_type": "display_data"
    }
   ],
   "source": [
    "shap.plots.bar(shap_values)"
   ],
   "metadata": {
    "collapsed": false,
    "pycharm": {
     "name": "#%%\n"
    }
   }
  },
  {
   "cell_type": "markdown",
   "source": [
    "# Выводы"
   ],
   "metadata": {
    "collapsed": false
   }
  },
  {
   "cell_type": "markdown",
   "source": [
    "Оптимизация гиперпараметров логистической регрессии незначительно улучшило качество модели."
   ],
   "metadata": {
    "collapsed": false
   }
  },
  {
   "cell_type": "code",
   "execution_count": null,
   "outputs": [],
   "source": [],
   "metadata": {
    "collapsed": false,
    "pycharm": {
     "name": "#%%\n"
    }
   }
  }
 ],
 "metadata": {
  "kernelspec": {
   "display_name": "Python 3",
   "language": "python",
   "name": "python3"
  },
  "language_info": {
   "codemirror_mode": {
    "name": "ipython",
    "version": 2
   },
   "file_extension": ".py",
   "mimetype": "text/x-python",
   "name": "python",
   "nbconvert_exporter": "python",
   "pygments_lexer": "ipython2",
   "version": "2.7.6"
  }
 },
 "nbformat": 4,
 "nbformat_minor": 0
}